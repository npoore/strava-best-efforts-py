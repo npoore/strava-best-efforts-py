{
 "cells": [
  {
   "cell_type": "code",
   "execution_count": 1,
   "metadata": {
    "collapsed": true
   },
   "outputs": [],
   "source": [
    "import os, json, urllib.request, pickle"
   ]
  },
  {
   "cell_type": "code",
   "execution_count": 2,
   "metadata": {
    "collapsed": true
   },
   "outputs": [],
   "source": [
    "token = os.environ['STRAVA_TOKEN']"
   ]
  },
  {
   "cell_type": "code",
   "execution_count": 3,
   "metadata": {
    "collapsed": true
   },
   "outputs": [],
   "source": [
    "request_headers = {\n",
    "    \"Authorization\": \"Bearer \" + token\n",
    "}\n",
    "\n",
    "def getMyActivities():\n",
    "    activities_url = \"https://www.strava.com/api/v3/athlete/activities\"\n",
    "    req = urllib.request.Request(activities_url, headers=request_headers)\n",
    "    with urllib.request.urlopen(req) as url:\n",
    "        data = json.loads(url.read().decode())\n",
    "        return data\n",
    "        \n",
    "def getActivity(activityid):\n",
    "    activity_url = \"https://www.strava.com/api/v3/activities/\"\n",
    "    req = urllib.request.Request(activity_url+str(activityid), headers=request_headers)\n",
    "    with urllib.request.urlopen(req) as url:\n",
    "        data = json.loads(url.read().decode())\n",
    "        return data\n",
    "\n",
    "def pprint_json(data):\n",
    "    print (json.dumps(data, indent=4, sort_keys=True))"
   ]
  },
  {
   "cell_type": "code",
   "execution_count": 4,
   "metadata": {
    "collapsed": true
   },
   "outputs": [],
   "source": [
    "def saveBinaryJSON(data, filename):\n",
    "    fh = open(filename+\".obj\", \"wb\")\n",
    "    pickle.dump(data, fh)\n",
    "    \n",
    "def readBinaryJSON(filename):\n",
    "    file = open(filename,'rb')\n",
    "    data = pickle.load(file)\n",
    "    return data"
   ]
  },
  {
   "cell_type": "code",
   "execution_count": 6,
   "metadata": {},
   "outputs": [],
   "source": [
    "saveBinaryJSON(getMyActivities(), \"myactivities\")"
   ]
  },
  {
   "cell_type": "code",
   "execution_count": 7,
   "metadata": {
    "collapsed": true
   },
   "outputs": [],
   "source": [
    "myactivities = readBinaryJSON(\"myactivities.obj\")"
   ]
  },
  {
   "cell_type": "code",
   "execution_count": 9,
   "metadata": {},
   "outputs": [
    {
     "name": "stdout",
     "output_type": "stream",
     "text": [
      "969636887\n",
      "968309653\n",
      "966852337\n",
      "965284548\n",
      "963575690\n",
      "961646709\n",
      "961646593\n",
      "946823326\n",
      "943757072\n",
      "939744603\n",
      "938285485\n",
      "938225937\n",
      "924099746\n",
      "924099705\n",
      "924099661\n",
      "924099587\n",
      "915416893\n",
      "914331539\n",
      "909515113\n",
      "906980321\n",
      "905053376\n",
      "905053305\n",
      "905053133\n",
      "905052843\n",
      "904056922\n",
      "897984928\n",
      "897984886\n",
      "897984725\n"
     ]
    }
   ],
   "source": [
    "d_act = []\n",
    "for activity in myactivities:\n",
    "    if activity['type'] == \"Run\":\n",
    "        print(activity['id'])\n",
    "        a = getActivity(activity['id'])\n",
    "        d_act.append(a)\n",
    "saveBinaryJSON(d_act,\"detail_myactivities\")"
   ]
  },
  {
   "cell_type": "code",
   "execution_count": 10,
   "metadata": {
    "collapsed": true
   },
   "outputs": [],
   "source": [
    "def secondsToPrint(seconds):\n",
    "    m, s = divmod(seconds, 60)\n",
    "    h, m = divmod(m, 60)\n",
    "    return \"%d:%02d:%02d\" % (h, m, s)\n",
    "\n",
    "def getEffortSummary(be):\n",
    "    return (be['start_date'],be['id'],secondsToPrint(be['moving_time']))"
   ]
  },
  {
   "cell_type": "code",
   "execution_count": 63,
   "metadata": {},
   "outputs": [
    {
     "name": "stdout",
     "output_type": "stream",
     "text": [
      "0:06:53\n",
      "0:06:54\n",
      "0:06:54\n",
      "0:06:40\n",
      "0:07:09\n",
      "0:07:25\n",
      "0:06:22\n",
      "0:12:19\n",
      "0:06:53\n",
      "0:07:28\n",
      "0:09:24\n",
      "0:06:58\n",
      "0:07:49\n",
      "0:10:29\n",
      "0:11:48\n",
      "0:06:38\n",
      "0:06:58\n",
      "0:07:38\n",
      "0:07:38\n",
      "0:07:56\n",
      "0:07:10\n"
     ]
    }
   ],
   "source": [
    "r_d_act = readBinaryJSON(\"detail_myactivities.obj\")\n",
    "for a in r_d_act:\n",
    "    if \"best_efforts\" in a:\n",
    "        for be in a['best_efforts']:\n",
    "            if be['name'] == \"1 mile\":\n",
    "                print(secondsToPrint(be['moving_time']))\n"
   ]
  },
  {
   "cell_type": "code",
   "execution_count": 11,
   "metadata": {},
   "outputs": [
    {
     "name": "stdout",
     "output_type": "stream",
     "text": [
      "('2017-05-03T18:58:39Z', 2152470324, '0:06:53')\n",
      "('2017-05-02T22:58:04Z', 2149961019, '0:06:54')\n",
      "('2017-05-01T23:13:22Z', 2147094019, '0:06:54')\n",
      "('2017-04-30T23:03:30Z', 2143973465, '0:06:40')\n",
      "('2017-04-29T19:33:42Z', 2140580915, '0:07:09')\n",
      "('2017-04-28T16:33:17Z', 2136830421, '0:07:25')\n",
      "('2017-04-17T22:36:38Z', 2107744100, '0:06:22')\n",
      "('2017-04-15T17:40:17Z', 2101320810, '0:12:19')\n",
      "('2017-04-12T23:23:45Z', 2093472661, '0:06:53')\n",
      "('2017-04-11T21:46:38Z', 2090683635, '0:07:28')\n",
      "('2017-04-09T16:22:17Z', 2090566363, '0:09:24')\n",
      "('2017-04-01T20:06:04Z', 2063062338, '0:06:58')\n",
      "('2017-04-01T19:53:31Z', 2063062257, '0:07:49')\n",
      "('2017-03-26T13:40:47Z', 2046257958, '0:10:29')\n",
      "('2017-03-25T17:51:12Z', 2043966547, '0:11:48')\n",
      "('2017-03-21T23:46:22Z', 2034559500, '0:06:38')\n",
      "('2017-03-19T22:14:52Z', 2029251346, '0:06:58')\n",
      "('2017-03-18T16:29:08Z', 2024963757, '0:07:38')\n",
      "('2017-03-18T15:56:24Z', 2024963413, '0:07:38')\n",
      "('2017-03-17T20:50:42Z', 2022892443, '0:07:56')\n",
      "('2017-03-12T19:40:14Z', 2011255902, '0:07:10')\n"
     ]
    }
   ],
   "source": [
    "r_d_act = readBinaryJSON(\"detail_myactivities.obj\")\n",
    "for a in r_d_act:\n",
    "    if \"best_efforts\" in a:\n",
    "        for be in a['best_efforts']:\n",
    "            if be['name'] == \"1 mile\":\n",
    "                print(getEffortSummary(be))\n"
   ]
  },
  {
   "cell_type": "code",
   "execution_count": null,
   "metadata": {
    "collapsed": true
   },
   "outputs": [],
   "source": []
  }
 ],
 "metadata": {
  "kernelspec": {
   "display_name": "Python 3",
   "language": "python",
   "name": "python3"
  },
  "language_info": {
   "codemirror_mode": {
    "name": "ipython",
    "version": 3
   },
   "file_extension": ".py",
   "mimetype": "text/x-python",
   "name": "python",
   "nbconvert_exporter": "python",
   "pygments_lexer": "ipython3",
   "version": "3.5.2"
  }
 },
 "nbformat": 4,
 "nbformat_minor": 2
}
